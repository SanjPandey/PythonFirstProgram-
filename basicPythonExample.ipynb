{
 "cells": [
  {
   "cell_type": "code",
   "execution_count": 1,
   "id": "e74b5db1",
   "metadata": {},
   "outputs": [],
   "source": [
    "#python first example"
   ]
  },
  {
   "cell_type": "markdown",
   "id": "fcd5b9d8",
   "metadata": {},
   "source": [
    "# how to print hello program in python"
   ]
  },
  {
   "cell_type": "code",
   "execution_count": 2,
   "id": "a54ba27e",
   "metadata": {},
   "outputs": [
    {
     "name": "stdout",
     "output_type": "stream",
     "text": [
      "hello\n"
     ]
    }
   ],
   "source": [
    "print(\"hello\")"
   ]
  },
  {
   "cell_type": "markdown",
   "id": "61d2eebf",
   "metadata": {},
   "source": [
    "# Give the single line comments in python"
   ]
  },
  {
   "cell_type": "code",
   "execution_count": 3,
   "id": "19ea33b8",
   "metadata": {},
   "outputs": [
    {
     "name": "stdout",
     "output_type": "stream",
     "text": [
      "Hi\n"
     ]
    }
   ],
   "source": [
    "# In this code we print Hi,using print commsnd\n",
    "print(\"Hi\")\n"
   ]
  },
  {
   "cell_type": "markdown",
   "id": "37a67baf",
   "metadata": {},
   "source": [
    "# Multiline comments in python used \"\"\"      \"\"\". using tripple code"
   ]
  },
  {
   "cell_type": "code",
   "execution_count": 4,
   "id": "80d4e128",
   "metadata": {},
   "outputs": [
    {
     "data": {
      "text/plain": [
       "'print(\"Hi\")\\nprint(\"hello\")\\nprint(\"welcome in python language\")'"
      ]
     },
     "execution_count": 4,
     "metadata": {},
     "output_type": "execute_result"
    }
   ],
   "source": [
    "\"\"\"print(\"Hi\")\n",
    "print(\"hello\")\n",
    "print(\"welcome in python language\")\"\"\""
   ]
  },
  {
   "cell_type": "markdown",
   "id": "fa1117a0",
   "metadata": {},
   "source": [
    "# For new line using \\n"
   ]
  },
  {
   "cell_type": "code",
   "execution_count": 7,
   "id": "d7df473a",
   "metadata": {},
   "outputs": [
    {
     "name": "stdout",
     "output_type": "stream",
     "text": [
      "welcome in python language \n",
      " here i am using \n",
      " for new line\n"
     ]
    }
   ],
   "source": [
    "print(\"welcome in python language \\n here i am using \\n for new line\")"
   ]
  },
  {
   "cell_type": "markdown",
   "id": "1aaeb309",
   "metadata": {},
   "source": [
    "# For space using \\t"
   ]
  },
  {
   "cell_type": "code",
   "execution_count": 8,
   "id": "7193f23a",
   "metadata": {},
   "outputs": [
    {
     "name": "stdout",
     "output_type": "stream",
     "text": [
      "welcome in python language \t here i am using \t for new line\n"
     ]
    }
   ],
   "source": [
    "print(\"welcome in python language \\t here i am using \\t for new line\")"
   ]
  },
  {
   "cell_type": "code",
   "execution_count": null,
   "id": "4a9755b5",
   "metadata": {},
   "outputs": [],
   "source": []
  }
 ],
 "metadata": {
  "kernelspec": {
   "display_name": "Python 3 (ipykernel)",
   "language": "python",
   "name": "python3"
  },
  "language_info": {
   "codemirror_mode": {
    "name": "ipython",
    "version": 3
   },
   "file_extension": ".py",
   "mimetype": "text/x-python",
   "name": "python",
   "nbconvert_exporter": "python",
   "pygments_lexer": "ipython3",
   "version": "3.11.5"
  }
 },
 "nbformat": 4,
 "nbformat_minor": 5
}
